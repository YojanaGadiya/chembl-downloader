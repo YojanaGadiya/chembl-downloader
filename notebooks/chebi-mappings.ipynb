{
 "cells": [
  {
   "cell_type": "markdown",
   "id": "2e35ca4c",
   "metadata": {},
   "source": [
    "# Mapping ChEMBL to ChEBI\n",
    "\n",
    "The `MOLECULE_DICTIONARY` table in ChEMBL contains mappings to ChEBI for some, but not all chemicals. This is unsurprising, given the scope of ChEBML is larger tha ChEBI. However, there is still room for improving these mappings.\n",
    "\n",
    "This notebook identifies molecules that have no ChEBI mapping (and have a label) then generates prioritized lexical matchings usingy [`gilda`](https://github.com/indralab/gilda) for curation."
   ]
  },
  {
   "cell_type": "code",
   "execution_count": 1,
   "id": "cfa741d8",
   "metadata": {
    "scrolled": true
   },
   "outputs": [],
   "source": [
    "import sys\n",
    "import time\n",
    "\n",
    "import gilda.grounder\n",
    "import gilda.term\n",
    "import pandas as pd\n",
    "from biomappings.gilda_utils import iter_prediction_tuples\n",
    "from gilda.process import normalize\n",
    "from tqdm.auto import tqdm\n",
    "from IPython.display import Markdown\n",
    "\n",
    "from chembl_downloader import queries, query, latest"
   ]
  },
  {
   "cell_type": "code",
   "execution_count": 2,
   "id": "e4f0e8d2",
   "metadata": {},
   "outputs": [
    {
     "name": "stdout",
     "output_type": "stream",
     "text": [
      "3.10.8 (main, Oct 13 2022, 10:17:43) [Clang 14.0.0 (clang-1400.0.29.102)]\n"
     ]
    }
   ],
   "source": [
    "print(sys.version)"
   ]
  },
  {
   "cell_type": "code",
   "execution_count": 3,
   "id": "389733a3",
   "metadata": {},
   "outputs": [
    {
     "name": "stdout",
     "output_type": "stream",
     "text": [
      "Fri Oct 28 15:16:09 2022\n"
     ]
    }
   ],
   "source": [
    "print(time.asctime())"
   ]
  },
  {
   "cell_type": "code",
   "execution_count": 4,
   "id": "66f1be43",
   "metadata": {},
   "outputs": [
    {
     "name": "stdout",
     "output_type": "stream",
     "text": [
      "Using ChEMBL version 31\n"
     ]
    }
   ],
   "source": [
    "version = latest()\n",
    "print(f\"Using ChEMBL version {version}\")"
   ]
  },
  {
   "cell_type": "markdown",
   "id": "e94e7db8",
   "metadata": {},
   "source": [
    "## Making the Query\n",
    "\n",
    "The following query over the `MOLECULE_DICTIONARY` finds all ChEMBL compound identifiers and their associated preferred names but filters out ones that already have mappings to ChEBI. This allows us to focus on doing some extra curation of new mappings."
   ]
  },
  {
   "cell_type": "code",
   "execution_count": 5,
   "id": "7e289898",
   "metadata": {},
   "outputs": [
    {
     "data": {
      "text/markdown": [
       "```sql\n",
       "SELECT\n",
       "    chembl_id,\n",
       "    pref_name\n",
       "FROM MOLECULE_DICTIONARY\n",
       "WHERE \n",
       "    chebi_par_id IS NULL\n",
       "    AND pref_name IS NOT NULL\n",
       "```"
      ],
      "text/plain": [
       "<IPython.core.display.Markdown object>"
      ]
     },
     "execution_count": 5,
     "metadata": {},
     "output_type": "execute_result"
    }
   ],
   "source": [
    "queries.markdown(queries.CHEBI_UNMAPPED_SQL)"
   ]
  },
  {
   "cell_type": "markdown",
   "id": "20f9571d",
   "metadata": {},
   "source": [
    "Make the query with `chembl_downloader.query`."
   ]
  },
  {
   "cell_type": "code",
   "execution_count": 6,
   "id": "44b7b003",
   "metadata": {},
   "outputs": [
    {
     "name": "stdout",
     "output_type": "stream",
     "text": [
      "CPU times: user 2 µs, sys: 1e+03 ns, total: 3 µs\n",
      "Wall time: 5.25 µs\n"
     ]
    }
   ],
   "source": [
    "%time\n",
    "df = query(queries.CHEBI_UNMAPPED_SQL, version=version)"
   ]
  },
  {
   "cell_type": "code",
   "execution_count": 7,
   "id": "dd945b1d",
   "metadata": {},
   "outputs": [
    {
     "data": {
      "text/html": [
       "<div>\n",
       "<style scoped>\n",
       "    .dataframe tbody tr th:only-of-type {\n",
       "        vertical-align: middle;\n",
       "    }\n",
       "\n",
       "    .dataframe tbody tr th {\n",
       "        vertical-align: top;\n",
       "    }\n",
       "\n",
       "    .dataframe thead th {\n",
       "        text-align: right;\n",
       "    }\n",
       "</style>\n",
       "<table border=\"1\" class=\"dataframe\">\n",
       "  <thead>\n",
       "    <tr style=\"text-align: right;\">\n",
       "      <th></th>\n",
       "      <th>chembl_id</th>\n",
       "      <th>pref_name</th>\n",
       "    </tr>\n",
       "  </thead>\n",
       "  <tbody>\n",
       "    <tr>\n",
       "      <th>0</th>\n",
       "      <td>CHEMBL6206</td>\n",
       "      <td>BROMOENOL LACTONE</td>\n",
       "    </tr>\n",
       "    <tr>\n",
       "      <th>1</th>\n",
       "      <td>CHEMBL446445</td>\n",
       "      <td>UCL-1530</td>\n",
       "    </tr>\n",
       "    <tr>\n",
       "      <th>2</th>\n",
       "      <td>CHEMBL266459</td>\n",
       "      <td>ZOMEPIRAC SODIUM</td>\n",
       "    </tr>\n",
       "    <tr>\n",
       "      <th>3</th>\n",
       "      <td>CHEMBL216458</td>\n",
       "      <td>ALPHA-BUNGAROTOXIN</td>\n",
       "    </tr>\n",
       "    <tr>\n",
       "      <th>4</th>\n",
       "      <td>CHEMBL6346</td>\n",
       "      <td>SCR01020</td>\n",
       "    </tr>\n",
       "    <tr>\n",
       "      <th>...</th>\n",
       "      <td>...</td>\n",
       "      <td>...</td>\n",
       "    </tr>\n",
       "    <tr>\n",
       "      <th>39225</th>\n",
       "      <td>CHEMBL4802269</td>\n",
       "      <td>IZURALIMAB</td>\n",
       "    </tr>\n",
       "    <tr>\n",
       "      <th>39226</th>\n",
       "      <td>CHEMBL4802270</td>\n",
       "      <td>PUDEXACIANINIUM</td>\n",
       "    </tr>\n",
       "    <tr>\n",
       "      <th>39227</th>\n",
       "      <td>CHEMBL4804171</td>\n",
       "      <td>AFP-464 FREE SALT</td>\n",
       "    </tr>\n",
       "    <tr>\n",
       "      <th>39228</th>\n",
       "      <td>CHEMBL4804172</td>\n",
       "      <td>SAMARIUM DOTMP</td>\n",
       "    </tr>\n",
       "    <tr>\n",
       "      <th>39229</th>\n",
       "      <td>CHEMBL4804173</td>\n",
       "      <td>FLORQUINITAU</td>\n",
       "    </tr>\n",
       "  </tbody>\n",
       "</table>\n",
       "<p>39230 rows × 2 columns</p>\n",
       "</div>"
      ],
      "text/plain": [
       "           chembl_id           pref_name\n",
       "0         CHEMBL6206   BROMOENOL LACTONE\n",
       "1       CHEMBL446445            UCL-1530\n",
       "2       CHEMBL266459    ZOMEPIRAC SODIUM\n",
       "3       CHEMBL216458  ALPHA-BUNGAROTOXIN\n",
       "4         CHEMBL6346            SCR01020\n",
       "...              ...                 ...\n",
       "39225  CHEMBL4802269          IZURALIMAB\n",
       "39226  CHEMBL4802270     PUDEXACIANINIUM\n",
       "39227  CHEMBL4804171   AFP-464 FREE SALT\n",
       "39228  CHEMBL4804172      SAMARIUM DOTMP\n",
       "39229  CHEMBL4804173        FLORQUINITAU\n",
       "\n",
       "[39230 rows x 2 columns]"
      ]
     },
     "execution_count": 7,
     "metadata": {},
     "output_type": "execute_result"
    }
   ],
   "source": [
    "df"
   ]
  },
  {
   "cell_type": "markdown",
   "id": "2c8748be",
   "metadata": {},
   "source": [
    "## Propose New Mappings\n",
    "\n",
    "First, we index the dataframe of molecules using [`gilda`](https://github.com/indralab/gilda), which implements a scored string matching algorithm."
   ]
  },
  {
   "cell_type": "code",
   "execution_count": 8,
   "id": "d87f8e43",
   "metadata": {},
   "outputs": [
    {
     "data": {
      "application/vnd.jupyter.widget-view+json": {
       "model_id": "7c7a8425031c4d3395beca67e8f7b685",
       "version_major": 2,
       "version_minor": 0
      },
      "text/plain": [
       "  0%|          | 0.00/39.2k [00:00<?, ?term/s]"
      ]
     },
     "metadata": {},
     "output_type": "display_data"
    }
   ],
   "source": [
    "terms = [\n",
    "    gilda.term.Term(\n",
    "        norm_text=normalize(name),\n",
    "        text=name,\n",
    "        db=\"chembl.compound\",\n",
    "        id=identifier,\n",
    "        entry_name=name,\n",
    "        status=\"name\",\n",
    "        source=\"chembl\",\n",
    "    )\n",
    "    for identifier, name in tqdm(df.values, unit=\"term\", unit_scale=True)\n",
    "]\n",
    "\n",
    "grounder = gilda.grounder.Grounder(terms)"
   ]
  },
  {
   "cell_type": "markdown",
   "id": "e29b2a0c",
   "metadata": {},
   "source": [
    "Second, we use a utility function from [`biomappings`](https://github.com/biopragmatics/biomappings) that takes in three things:\n",
    "\n",
    "1. a `prefix` corresponding to the resource we want to map against\n",
    "2. the `grounder` object generated from indexing all of the ChEMBL terms\n",
    "3. a `provenance` string\n",
    "\n",
    "\n",
    "This function in turn relies on [`pyobo`](https://github.com/pyobo/pyobo) and will download/cache the [ChEBI ontology](https://obofoundry.org/ontology/chebi), so be patient on the first run."
   ]
  },
  {
   "cell_type": "code",
   "execution_count": 9,
   "id": "737427eb",
   "metadata": {},
   "outputs": [
    {
     "name": "stderr",
     "output_type": "stream",
     "text": [
      "WARNING: [2022-10-28 15:16:13] bioversions.sources.ols - [ypo] Missing information in OLS\n"
     ]
    },
    {
     "data": {
      "application/vnd.jupyter.widget-view+json": {
       "model_id": "baa3d7e4f93d4b70aefc7369d25050c3",
       "version_major": 2,
       "version_minor": 0
      },
      "text/plain": [
       "[chebi] gilda tuples:   0%|          | 0.00/163k [00:00<?, ?name/s]"
      ]
     },
     "metadata": {},
     "output_type": "display_data"
    }
   ],
   "source": [
    "prediction_tuples = list(\n",
    "    iter_prediction_tuples(\n",
    "        prefix=\"chebi\",\n",
    "        grounder=grounder,\n",
    "        provenance=\"notebook\",\n",
    "    )\n",
    ")"
   ]
  },
  {
   "cell_type": "code",
   "execution_count": 10,
   "id": "b01f8e7f",
   "metadata": {},
   "outputs": [
    {
     "name": "stdout",
     "output_type": "stream",
     "text": [
      "Got 4,720 predictions\n"
     ]
    }
   ],
   "source": [
    "print(f\"Got {len(prediction_tuples):,} predictions\")"
   ]
  },
  {
   "cell_type": "markdown",
   "id": "92c25f74",
   "metadata": {},
   "source": [
    "## Results\n",
    "\n",
    "The results below show promising results, often resulting in exact string matches. Further proofing can be done on the chemical strucutre level, but these matches are typically correct without further investigation."
   ]
  },
  {
   "cell_type": "code",
   "execution_count": 11,
   "id": "2dd1fc6a",
   "metadata": {},
   "outputs": [
    {
     "data": {
      "text/html": [
       "<div>\n",
       "<style scoped>\n",
       "    .dataframe tbody tr th:only-of-type {\n",
       "        vertical-align: middle;\n",
       "    }\n",
       "\n",
       "    .dataframe tbody tr th {\n",
       "        vertical-align: top;\n",
       "    }\n",
       "\n",
       "    .dataframe thead th {\n",
       "        text-align: right;\n",
       "    }\n",
       "</style>\n",
       "<table border=\"1\" class=\"dataframe\">\n",
       "  <thead>\n",
       "    <tr style=\"text-align: right;\">\n",
       "      <th></th>\n",
       "      <th>source_prefix</th>\n",
       "      <th>source_id</th>\n",
       "      <th>source_name</th>\n",
       "      <th>relation</th>\n",
       "      <th>target_prefix</th>\n",
       "      <th>target_identifier</th>\n",
       "      <th>target_name</th>\n",
       "      <th>type</th>\n",
       "      <th>confidence</th>\n",
       "      <th>source</th>\n",
       "    </tr>\n",
       "  </thead>\n",
       "  <tbody>\n",
       "    <tr>\n",
       "      <th>4377</th>\n",
       "      <td>chebi</td>\n",
       "      <td>CHEBI:80180</td>\n",
       "      <td>Indolicidin</td>\n",
       "      <td>skos:exactMatch</td>\n",
       "      <td>chembl.compound</td>\n",
       "      <td>CHEMBL2251917</td>\n",
       "      <td>Indolicidin</td>\n",
       "      <td>lexical</td>\n",
       "      <td>0.777778</td>\n",
       "      <td>notebook</td>\n",
       "    </tr>\n",
       "    <tr>\n",
       "      <th>3524</th>\n",
       "      <td>chebi</td>\n",
       "      <td>CHEBI:40701</td>\n",
       "      <td>ALRESTATIN</td>\n",
       "      <td>skos:exactMatch</td>\n",
       "      <td>chembl.compound</td>\n",
       "      <td>CHEMBL63055</td>\n",
       "      <td>ALRESTATIN</td>\n",
       "      <td>lexical</td>\n",
       "      <td>0.777778</td>\n",
       "      <td>notebook</td>\n",
       "    </tr>\n",
       "    <tr>\n",
       "      <th>1765</th>\n",
       "      <td>chebi</td>\n",
       "      <td>CHEBI:167900</td>\n",
       "      <td>PJ34</td>\n",
       "      <td>skos:exactMatch</td>\n",
       "      <td>chembl.compound</td>\n",
       "      <td>CHEMBL3233481</td>\n",
       "      <td>PJ34</td>\n",
       "      <td>lexical</td>\n",
       "      <td>0.777778</td>\n",
       "      <td>notebook</td>\n",
       "    </tr>\n",
       "    <tr>\n",
       "      <th>1766</th>\n",
       "      <td>chebi</td>\n",
       "      <td>CHEBI:167900</td>\n",
       "      <td>PJ34</td>\n",
       "      <td>skos:exactMatch</td>\n",
       "      <td>chembl.compound</td>\n",
       "      <td>CHEMBL372303</td>\n",
       "      <td>PJ34</td>\n",
       "      <td>lexical</td>\n",
       "      <td>0.777778</td>\n",
       "      <td>notebook</td>\n",
       "    </tr>\n",
       "    <tr>\n",
       "      <th>3520</th>\n",
       "      <td>chebi</td>\n",
       "      <td>CHEBI:40287</td>\n",
       "      <td>7-NITROINDAZOLE</td>\n",
       "      <td>skos:exactMatch</td>\n",
       "      <td>chembl.compound</td>\n",
       "      <td>CHEMBL247378</td>\n",
       "      <td>7-NITROINDAZOLE</td>\n",
       "      <td>lexical</td>\n",
       "      <td>0.777778</td>\n",
       "      <td>notebook</td>\n",
       "    </tr>\n",
       "    <tr>\n",
       "      <th>...</th>\n",
       "      <td>...</td>\n",
       "      <td>...</td>\n",
       "      <td>...</td>\n",
       "      <td>...</td>\n",
       "      <td>...</td>\n",
       "      <td>...</td>\n",
       "      <td>...</td>\n",
       "      <td>...</td>\n",
       "      <td>...</td>\n",
       "      <td>...</td>\n",
       "    </tr>\n",
       "    <tr>\n",
       "      <th>4662</th>\n",
       "      <td>chebi</td>\n",
       "      <td>CHEBI:9423</td>\n",
       "      <td>Technetium tc 99m sestamibi</td>\n",
       "      <td>skos:exactMatch</td>\n",
       "      <td>chembl.compound</td>\n",
       "      <td>CHEMBL4594241</td>\n",
       "      <td>TECHNETIUM TC 99M SESTAMIBI</td>\n",
       "      <td>lexical</td>\n",
       "      <td>0.723974</td>\n",
       "      <td>notebook</td>\n",
       "    </tr>\n",
       "    <tr>\n",
       "      <th>3310</th>\n",
       "      <td>chebi</td>\n",
       "      <td>CHEBI:32187</td>\n",
       "      <td>Technetium Tc 99m succimer</td>\n",
       "      <td>skos:exactMatch</td>\n",
       "      <td>chembl.compound</td>\n",
       "      <td>CHEMBL1200797</td>\n",
       "      <td>TECHNETIUM TC 99M SUCCIMER</td>\n",
       "      <td>lexical</td>\n",
       "      <td>0.723974</td>\n",
       "      <td>notebook</td>\n",
       "    </tr>\n",
       "    <tr>\n",
       "      <th>3774</th>\n",
       "      <td>chebi</td>\n",
       "      <td>CHEBI:5937</td>\n",
       "      <td>Interferon alfa-2a</td>\n",
       "      <td>skos:exactMatch</td>\n",
       "      <td>chembl.compound</td>\n",
       "      <td>CHEMBL2108508</td>\n",
       "      <td>INTERFERON ALFA-2A</td>\n",
       "      <td>lexical</td>\n",
       "      <td>0.723974</td>\n",
       "      <td>notebook</td>\n",
       "    </tr>\n",
       "    <tr>\n",
       "      <th>3775</th>\n",
       "      <td>chebi</td>\n",
       "      <td>CHEBI:5938</td>\n",
       "      <td>Interferon beta-1b</td>\n",
       "      <td>skos:exactMatch</td>\n",
       "      <td>chembl.compound</td>\n",
       "      <td>CHEMBL1201563</td>\n",
       "      <td>INTERFERON BETA-1B</td>\n",
       "      <td>lexical</td>\n",
       "      <td>0.723974</td>\n",
       "      <td>notebook</td>\n",
       "    </tr>\n",
       "    <tr>\n",
       "      <th>3776</th>\n",
       "      <td>chebi</td>\n",
       "      <td>CHEBI:5939</td>\n",
       "      <td>Interferon gamma-1b</td>\n",
       "      <td>skos:exactMatch</td>\n",
       "      <td>chembl.compound</td>\n",
       "      <td>CHEMBL1201564</td>\n",
       "      <td>INTERFERON GAMMA-1B</td>\n",
       "      <td>lexical</td>\n",
       "      <td>0.723974</td>\n",
       "      <td>notebook</td>\n",
       "    </tr>\n",
       "  </tbody>\n",
       "</table>\n",
       "<p>4720 rows × 10 columns</p>\n",
       "</div>"
      ],
      "text/plain": [
       "     source_prefix     source_id                  source_name  \\\n",
       "4377         chebi   CHEBI:80180                  Indolicidin   \n",
       "3524         chebi   CHEBI:40701                   ALRESTATIN   \n",
       "1765         chebi  CHEBI:167900                         PJ34   \n",
       "1766         chebi  CHEBI:167900                         PJ34   \n",
       "3520         chebi   CHEBI:40287              7-NITROINDAZOLE   \n",
       "...            ...           ...                          ...   \n",
       "4662         chebi    CHEBI:9423  Technetium tc 99m sestamibi   \n",
       "3310         chebi   CHEBI:32187   Technetium Tc 99m succimer   \n",
       "3774         chebi    CHEBI:5937           Interferon alfa-2a   \n",
       "3775         chebi    CHEBI:5938           Interferon beta-1b   \n",
       "3776         chebi    CHEBI:5939          Interferon gamma-1b   \n",
       "\n",
       "             relation    target_prefix target_identifier  \\\n",
       "4377  skos:exactMatch  chembl.compound     CHEMBL2251917   \n",
       "3524  skos:exactMatch  chembl.compound       CHEMBL63055   \n",
       "1765  skos:exactMatch  chembl.compound     CHEMBL3233481   \n",
       "1766  skos:exactMatch  chembl.compound      CHEMBL372303   \n",
       "3520  skos:exactMatch  chembl.compound      CHEMBL247378   \n",
       "...               ...              ...               ...   \n",
       "4662  skos:exactMatch  chembl.compound     CHEMBL4594241   \n",
       "3310  skos:exactMatch  chembl.compound     CHEMBL1200797   \n",
       "3774  skos:exactMatch  chembl.compound     CHEMBL2108508   \n",
       "3775  skos:exactMatch  chembl.compound     CHEMBL1201563   \n",
       "3776  skos:exactMatch  chembl.compound     CHEMBL1201564   \n",
       "\n",
       "                      target_name     type  confidence    source  \n",
       "4377                  Indolicidin  lexical    0.777778  notebook  \n",
       "3524                   ALRESTATIN  lexical    0.777778  notebook  \n",
       "1765                         PJ34  lexical    0.777778  notebook  \n",
       "1766                         PJ34  lexical    0.777778  notebook  \n",
       "3520              7-NITROINDAZOLE  lexical    0.777778  notebook  \n",
       "...                           ...      ...         ...       ...  \n",
       "4662  TECHNETIUM TC 99M SESTAMIBI  lexical    0.723974  notebook  \n",
       "3310   TECHNETIUM TC 99M SUCCIMER  lexical    0.723974  notebook  \n",
       "3774           INTERFERON ALFA-2A  lexical    0.723974  notebook  \n",
       "3775           INTERFERON BETA-1B  lexical    0.723974  notebook  \n",
       "3776          INTERFERON GAMMA-1B  lexical    0.723974  notebook  \n",
       "\n",
       "[4720 rows x 10 columns]"
      ]
     },
     "execution_count": 11,
     "metadata": {},
     "output_type": "execute_result"
    }
   ],
   "source": [
    "predictions_df = pd.DataFrame(prediction_tuples).sort_values(\"confidence\", ascending=False)\n",
    "predictions_df"
   ]
  }
 ],
 "metadata": {
  "kernelspec": {
   "display_name": "Python 3 (ipykernel)",
   "language": "python",
   "name": "python3"
  },
  "language_info": {
   "codemirror_mode": {
    "name": "ipython",
    "version": 3
   },
   "file_extension": ".py",
   "mimetype": "text/x-python",
   "name": "python",
   "nbconvert_exporter": "python",
   "pygments_lexer": "ipython3",
   "version": "3.10.8"
  }
 },
 "nbformat": 4,
 "nbformat_minor": 5
}
